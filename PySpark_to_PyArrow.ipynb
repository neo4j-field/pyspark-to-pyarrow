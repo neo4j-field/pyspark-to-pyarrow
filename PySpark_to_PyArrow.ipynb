{
 "cells": [
  {
   "cell_type": "markdown",
   "id": "4388a8d8-86fb-45ef-8c30-1993640851c9",
   "metadata": {},
   "source": [
    "# ⚡ PySpark to 🏹 PyArrow to 🌐 Neo4j GDS\n",
    "\n",
    "> Note: this uses pre-alpha GDS capabilities. Some of the following steps (e.g. starting/stopping the Flight Server) will change in the first public alpha release."
   ]
  },
  {
   "cell_type": "code",
   "execution_count": 1,
   "id": "7abb6987-d452-44a5-a799-824bd5d8c457",
   "metadata": {},
   "outputs": [
    {
     "name": "stdout",
     "output_type": "stream",
     "text": [
      "Requirement already satisfied: pyarrow<8.0,>=7.0 in /opt/conda/lib/python3.7/site-packages (7.0.0)\n",
      "Collecting graphdatascience<2.0,>=1.0\n",
      "  Using cached graphdatascience-1.0.0-py3-none-any.whl (34 kB)\n",
      "Requirement already satisfied: numpy>=1.16.6 in /opt/conda/lib/python3.7/site-packages (from pyarrow<8.0,>=7.0) (1.19.5)\n",
      "Requirement already satisfied: pandas<2.0,>=1.0 in /opt/conda/lib/python3.7/site-packages (from graphdatascience<2.0,>=1.0) (1.3.5)\n",
      "Collecting neo4j<5.0,>=4.4.2\n",
      "  Using cached neo4j-4.4.3-py3-none-any.whl\n",
      "Requirement already satisfied: pytz in /opt/conda/lib/python3.7/site-packages (from neo4j<5.0,>=4.4.2->graphdatascience<2.0,>=1.0) (2022.1)\n",
      "Requirement already satisfied: python-dateutil>=2.7.3 in /opt/conda/lib/python3.7/site-packages (from pandas<2.0,>=1.0->graphdatascience<2.0,>=1.0) (2.8.2)\n",
      "Requirement already satisfied: six>=1.5 in /opt/conda/lib/python3.7/site-packages (from python-dateutil>=2.7.3->pandas<2.0,>=1.0->graphdatascience<2.0,>=1.0) (1.16.0)\n",
      "Installing collected packages: neo4j, graphdatascience\n",
      "Successfully installed graphdatascience-1.0.0 neo4j-4.4.3\n"
     ]
    }
   ],
   "source": [
    "!pip install \"pyarrow<8.0,>=7.0\" \"graphdatascience<2.0,>=1.0\""
   ]
  },
  {
   "cell_type": "code",
   "execution_count": 2,
   "id": "7241a53b-d776-4132-9df3-db8cc2774745",
   "metadata": {},
   "outputs": [
    {
     "name": "stdout",
     "output_type": "stream",
     "text": [
      "using pyarrow v7.0.0 and GDS client v1.0.0\n"
     ]
    }
   ],
   "source": [
    "from typing import Iterator, Tuple\n",
    "import json\n",
    "import uuid\n",
    "\n",
    "import pyspark\n",
    "from pyspark.sql import Row, SparkSession\n",
    "\n",
    "import pyarrow as pa\n",
    "import pyarrow.flight as flight\n",
    "\n",
    "from graphdatascience import GraphDataScience, __version__ as __gdsversion__\n",
    "\n",
    "print(f\"using pyarrow v{pa.__version__} and GDS client v{__gdsversion__}\")"
   ]
  },
  {
   "cell_type": "markdown",
   "id": "28c411e3-8bd9-4cb6-82fa-c8b227216244",
   "metadata": {},
   "source": [
    "## Arrow Helpers & Higher Order Functions\n",
    "Currently, a user must implement some of the integration to GDS using PyArrow directly. This will change in the future, but for now we have two helper functions: `send_action` and `write_table`."
   ]
  },
  {
   "cell_type": "code",
   "execution_count": 3,
   "id": "907aeeac-f488-4726-ae18-d666f0d7b877",
   "metadata": {},
   "outputs": [],
   "source": [
    "def send_action(client: flight.FlightClient, action_type: str, meta_data: dict) -> dict:\n",
    "    \"\"\"\n",
    "    Communicates an Arrow Action message to the GDS Arrow Service.\n",
    "    \"\"\"\n",
    "    try:\n",
    "        result = client.do_action(\n",
    "            flight.Action(action_type, json.dumps(meta_data).encode(\"utf-8\"))\n",
    "        )\n",
    "        return json.loads(next(result).body.to_pybytes().decode())\n",
    "    except Exception as e:\n",
    "        print(f\"send_action error: {e}\")\n",
    "        return None\n",
    "\n",
    "def write_table(client: flight.FlightClient, desc: bytes, table: pa.Table) -> int:\n",
    "    \"\"\"\n",
    "    Write a PyArrow Table to the GDS Flight service.\n",
    "    \"\"\"\n",
    "    # Writing an Arrow stream requires first communicating the intent via a \"PUT\"\n",
    "    # which includes details on the incoming schema. The schema _must not_ change\n",
    "    # mid-stream.\n",
    "    upload_descriptor = flight.FlightDescriptor.for_command(desc)\n",
    "    writer, _ = client.do_put(upload_descriptor, table.schema)\n",
    "    rows = len(table)\n",
    "    with writer:\n",
    "        try:\n",
    "            writer.write_table(table, max_chunksize=10_000)\n",
    "            return rows\n",
    "        except Exception as e:\n",
    "            print(f\"write_table error: {e}\")\n",
    "    return 0\n"
   ]
  },
  {
   "cell_type": "markdown",
   "id": "eee3ca49-d008-410b-b03d-9087e6aa41a5",
   "metadata": {},
   "source": [
    "We also need to provide some serializable Python functions for the PySpark workers to use for data prep & transformation. In this case,\n",
    "\n",
    "* `load_rows_as_tables` deals with transforming the Row-based PySpark data into PyArrow vectors\n",
    "* `guid_to_int` is a hackjob to deal with translating our 128-bit guid (string) based node ids into 64-bit signed integer node ids compatbility with the current GDS library"
   ]
  },
  {
   "cell_type": "code",
   "execution_count": 4,
   "id": "8bd84c92-bc4d-42a1-9a09-5ad3411c9a9c",
   "metadata": {},
   "outputs": [],
   "source": [
    "def load_rows_as_tables(arrow_host: str, arrow_port: int, desc: dict):\n",
    "    \"\"\"\n",
    "    Higher-order function that converts PySpark Rows into PyArrow Tables and\n",
    "    feeds them to Neo4j.\n",
    "    \"\"\"\n",
    "    desc = json.dumps(desc).encode(\"utf-8\")\n",
    "\n",
    "    def loader(iterator: Iterator[Row]) -> Row:\n",
    "        client = flight.FlightClient(\n",
    "            flight.Location.for_grpc_tcp(arrow_host, arrow_port)\n",
    "        )\n",
    "        # xxx this is a hack and will not scale\n",
    "        data = dict()\n",
    "        for row in iterator:\n",
    "            for field in row.asDict():\n",
    "                col = data.get(field, [])\n",
    "                col.append(row[field])\n",
    "                data[field] = col\n",
    "        table = pa.table(data)\n",
    "        \n",
    "        # This is where the ✨ magic happens...\n",
    "        num_sent = write_table(client, desc, table)\n",
    "        \n",
    "        yield Row(schema=str(table.schema), table_size=len(table), num_sent=num_sent)\n",
    "    return loader\n",
    "\n",
    "def guid_to_int(*fields):\n",
    "    \"\"\"Convert fields in a given row from a str-based guid to an int value\"\"\"\n",
    "    def _guid_to_int(row: Row) -> Row:\n",
    "        # this is a total hack...mask off the upper 65 bits :(\n",
    "        result = {}\n",
    "        for field in row.asDict():\n",
    "            if field in fields:\n",
    "                guid = uuid.UUID(str(row[field]))\n",
    "                result[field] = int(int(guid) & ((1 << 63) - 1)) # need a sign bit :(\n",
    "            else:\n",
    "                result[field] = row[field]\n",
    "        # keep our data welformed as PySpark Row's with named fields\n",
    "        return Row(**result)\n",
    "    return _guid_to_int"
   ]
  },
  {
   "cell_type": "markdown",
   "id": "c7e1870c-4fb9-45e8-bc27-c49018f569ae",
   "metadata": {},
   "source": [
    "## Some Housekeeping\n",
    "\n",
    "Let's first configure our GDS client connection and assure our Spark session is alive."
   ]
  },
  {
   "cell_type": "code",
   "execution_count": 5,
   "id": "9399ed16-e70e-4ec3-853a-fc9c08b72da3",
   "metadata": {},
   "outputs": [
    {
     "data": {
      "text/html": [
       "<div>\n",
       "<style scoped>\n",
       "    .dataframe tbody tr th:only-of-type {\n",
       "        vertical-align: middle;\n",
       "    }\n",
       "\n",
       "    .dataframe tbody tr th {\n",
       "        vertical-align: top;\n",
       "    }\n",
       "\n",
       "    .dataframe thead th {\n",
       "        text-align: right;\n",
       "    }\n",
       "</style>\n",
       "<table border=\"1\" class=\"dataframe\">\n",
       "  <thead>\n",
       "    <tr style=\"text-align: right;\">\n",
       "      <th></th>\n",
       "      <th>'hello pyspark!'</th>\n",
       "    </tr>\n",
       "  </thead>\n",
       "  <tbody>\n",
       "    <tr>\n",
       "      <th>0</th>\n",
       "      <td>hello pyspark!</td>\n",
       "    </tr>\n",
       "  </tbody>\n",
       "</table>\n",
       "</div>"
      ],
      "text/plain": [
       "  'hello pyspark!'\n",
       "0   hello pyspark!"
      ]
     },
     "execution_count": 5,
     "metadata": {},
     "output_type": "execute_result"
    }
   ],
   "source": [
    "with open(\"creds.txt\", mode=\"r\") as f:\n",
    "    password = f.readline().strip()\n",
    "\n",
    "with open(\"ip.txt\", mode=\"r\") as f:\n",
    "    ip_address = f.readline().strip()\n",
    "\n",
    "NEO4J_USER, NEO4J_PASS, NEO4J_HOST, NEO4J_GRAPH = (\n",
    "    \"neo4j\", password, \n",
    "    ip_address, # not sure why internal dns doesn't work 🤷‍♂️\n",
    "    \"test\"\n",
    ")\n",
    "gds = GraphDataScience(f\"neo4j://{NEO4J_HOST}:7687\", auth=(NEO4J_USER, NEO4J_PASS))\n",
    "\n",
    "gds.run_cypher(\"RETURN 'hello pyspark!'\")"
   ]
  },
  {
   "cell_type": "code",
   "execution_count": 6,
   "id": "a7df5df4-59f8-4bb8-afe1-8d975725fb90",
   "metadata": {},
   "outputs": [
    {
     "data": {
      "text/html": [
       "\n",
       "            <div>\n",
       "                <p><b>SparkSession - hive</b></p>\n",
       "                \n",
       "        <div>\n",
       "            <p><b>SparkContext</b></p>\n",
       "\n",
       "            <p><a href=\"http://79783d4f5353:4040\">Spark UI</a></p>\n",
       "\n",
       "            <dl>\n",
       "              <dt>Version</dt>\n",
       "                <dd><code>v2.4.7</code></dd>\n",
       "              <dt>Master</dt>\n",
       "                <dd><code>local[*]</code></dd>\n",
       "              <dt>AppName</dt>\n",
       "                <dd><code>PySparkShell</code></dd>\n",
       "            </dl>\n",
       "        </div>\n",
       "        \n",
       "            </div>\n",
       "        "
      ],
      "text/plain": [
       "<pyspark.sql.session.SparkSession at 0x7f4265091c50>"
      ]
     },
     "execution_count": 6,
     "metadata": {},
     "output_type": "execute_result"
    }
   ],
   "source": [
    "spark = (\n",
    "    SparkSession.builder\n",
    "    .appName(\"PySpark to PyArrow GDS Example\")\n",
    "    .config(\"spark.sql.execution.arrow.pyspark.enabled\", \"true\")\n",
    "    .config(\"spark.sql.execution.arrow.pyspark.maxRecordsPerBatch\", 10_000)\n",
    "    .getOrCreate()\n",
    ")\n",
    "spark"
   ]
  },
  {
   "cell_type": "markdown",
   "id": "bd76ba77-fa65-4b3c-8554-8d6fc07a4d22",
   "metadata": {},
   "source": [
    "## Prepare our Data with help from ⚡PySpark\n",
    "\n",
    "We're using 2 tables in BigQuery. PySpark running in GCP Dataproc already includes the capabilities to read from BigQuery tables, so this part is super easy.\n",
    "\n",
    "> _Note: we use PySpark to drop or rename some columns to transform the data to meet expectations of the current pre-alpha GDS Flight Server._"
   ]
  },
  {
   "cell_type": "code",
   "execution_count": 7,
   "id": "595e1263-8fe7-4606-a092-18923d70fc63",
   "metadata": {},
   "outputs": [
    {
     "name": "stderr",
     "output_type": "stream",
     "text": [
      "                                                                                \r"
     ]
    },
    {
     "data": {
      "text/html": [
       "<div>\n",
       "<style scoped>\n",
       "    .dataframe tbody tr th:only-of-type {\n",
       "        vertical-align: middle;\n",
       "    }\n",
       "\n",
       "    .dataframe tbody tr th {\n",
       "        vertical-align: top;\n",
       "    }\n",
       "\n",
       "    .dataframe thead th {\n",
       "        text-align: right;\n",
       "    }\n",
       "</style>\n",
       "<table border=\"1\" class=\"dataframe\">\n",
       "  <thead>\n",
       "    <tr style=\"text-align: right;\">\n",
       "      <th></th>\n",
       "      <th>node_id</th>\n",
       "      <th>fraudMoneyTransfer</th>\n",
       "      <th>moneyTransferErrorCancelAcmount</th>\n",
       "    </tr>\n",
       "  </thead>\n",
       "  <tbody>\n",
       "    <tr>\n",
       "      <th>0</th>\n",
       "      <td>fbfecb0d43298abedcfc51ed87f0c23d</td>\n",
       "      <td>0</td>\n",
       "      <td>0.0</td>\n",
       "    </tr>\n",
       "    <tr>\n",
       "      <th>1</th>\n",
       "      <td>8bd4336d2bbc95d23db4f58cae5b3ee6</td>\n",
       "      <td>0</td>\n",
       "      <td>0.0</td>\n",
       "    </tr>\n",
       "    <tr>\n",
       "      <th>2</th>\n",
       "      <td>19227007c6f5f714b37a2d85de3bcf89</td>\n",
       "      <td>0</td>\n",
       "      <td>0.0</td>\n",
       "    </tr>\n",
       "    <tr>\n",
       "      <th>3</th>\n",
       "      <td>99d83a47c8edda428639be9a6d6431dd</td>\n",
       "      <td>0</td>\n",
       "      <td>0.0</td>\n",
       "    </tr>\n",
       "    <tr>\n",
       "      <th>4</th>\n",
       "      <td>70e0bc1649566c06431b171dbe5b2fd2</td>\n",
       "      <td>0</td>\n",
       "      <td>0.0</td>\n",
       "    </tr>\n",
       "  </tbody>\n",
       "</table>\n",
       "</div>"
      ],
      "text/plain": [
       "                            node_id  fraudMoneyTransfer  \\\n",
       "0  fbfecb0d43298abedcfc51ed87f0c23d                   0   \n",
       "1  8bd4336d2bbc95d23db4f58cae5b3ee6                   0   \n",
       "2  19227007c6f5f714b37a2d85de3bcf89                   0   \n",
       "3  99d83a47c8edda428639be9a6d6431dd                   0   \n",
       "4  70e0bc1649566c06431b171dbe5b2fd2                   0   \n",
       "\n",
       "   moneyTransferErrorCancelAcmount  \n",
       "0                              0.0  \n",
       "1                              0.0  \n",
       "2                              0.0  \n",
       "3                              0.0  \n",
       "4                              0.0  "
      ]
     },
     "execution_count": 7,
     "metadata": {},
     "output_type": "execute_result"
    }
   ],
   "source": [
    "nodes = (\n",
    "    spark.read\n",
    "    .format(\"bigquery\")\n",
    "    .load(\"neo4j-se-team-201905.fraud_demo_data.user\")\n",
    "    .withColumnRenamed(\"guid\", \"node_id\")\n",
    "    .cache()\n",
    ")\n",
    "nodes.limit(5).toPandas()"
   ]
  },
  {
   "cell_type": "code",
   "execution_count": 8,
   "id": "7ad33b8d-e032-45cb-b166-62a0e86fe076",
   "metadata": {},
   "outputs": [
    {
     "name": "stderr",
     "output_type": "stream",
     "text": [
      "                                                                                \r"
     ]
    },
    {
     "data": {
      "text/html": [
       "<div>\n",
       "<style scoped>\n",
       "    .dataframe tbody tr th:only-of-type {\n",
       "        vertical-align: middle;\n",
       "    }\n",
       "\n",
       "    .dataframe tbody tr th {\n",
       "        vertical-align: top;\n",
       "    }\n",
       "\n",
       "    .dataframe thead th {\n",
       "        text-align: right;\n",
       "    }\n",
       "</style>\n",
       "<table border=\"1\" class=\"dataframe\">\n",
       "  <thead>\n",
       "    <tr style=\"text-align: right;\">\n",
       "      <th></th>\n",
       "      <th>source_id</th>\n",
       "      <th>destination_id</th>\n",
       "    </tr>\n",
       "  </thead>\n",
       "  <tbody>\n",
       "    <tr>\n",
       "      <th>0</th>\n",
       "      <td>00000056b0d4d68e9b1f2a80fbe55823</td>\n",
       "      <td>125110adf289183a0fdb15e61f8a81c8</td>\n",
       "    </tr>\n",
       "    <tr>\n",
       "      <th>1</th>\n",
       "      <td>0011985949cf4de51ef628aa47c7e527</td>\n",
       "      <td>8584dd66824b27e381ab5752efc6569f</td>\n",
       "    </tr>\n",
       "    <tr>\n",
       "      <th>2</th>\n",
       "      <td>002c20d7382d262532b9c43a3e5d4a2f</td>\n",
       "      <td>be133538c37501fcfc351542a71d2f94</td>\n",
       "    </tr>\n",
       "    <tr>\n",
       "      <th>3</th>\n",
       "      <td>002c20d7382d262532b9c43a3e5d4a2f</td>\n",
       "      <td>be133538c37501fcfc351542a71d2f94</td>\n",
       "    </tr>\n",
       "    <tr>\n",
       "      <th>4</th>\n",
       "      <td>002c20d7382d262532b9c43a3e5d4a2f</td>\n",
       "      <td>be133538c37501fcfc351542a71d2f94</td>\n",
       "    </tr>\n",
       "  </tbody>\n",
       "</table>\n",
       "</div>"
      ],
      "text/plain": [
       "                          source_id                    destination_id\n",
       "0  00000056b0d4d68e9b1f2a80fbe55823  125110adf289183a0fdb15e61f8a81c8\n",
       "1  0011985949cf4de51ef628aa47c7e527  8584dd66824b27e381ab5752efc6569f\n",
       "2  002c20d7382d262532b9c43a3e5d4a2f  be133538c37501fcfc351542a71d2f94\n",
       "3  002c20d7382d262532b9c43a3e5d4a2f  be133538c37501fcfc351542a71d2f94\n",
       "4  002c20d7382d262532b9c43a3e5d4a2f  be133538c37501fcfc351542a71d2f94"
      ]
     },
     "execution_count": 8,
     "metadata": {},
     "output_type": "execute_result"
    }
   ],
   "source": [
    "edges = (\n",
    "    spark.read\n",
    "    .format(\"bigquery\")\n",
    "    .load(\"neo4j-se-team-201905.fraud_demo_data.p2p\")\n",
    "    .withColumnRenamed(\"start_guid\", \"source_id\")\n",
    "    .withColumnRenamed(\"end_guid\", \"destination_id\")\n",
    "    .drop(\"start_label\", \"end_label\", \"transactionDateTime\", \"totalAmount\")\n",
    "    .cache()\n",
    ")\n",
    "edges.limit(5).toPandas()"
   ]
  },
  {
   "cell_type": "markdown",
   "id": "aee3237a-3830-4b4f-9618-64dd4be1d77b",
   "metadata": {},
   "source": [
    "## Clean up any Existing Mess\n",
    "\n",
    "Let's make sure we've got a clean slate for the demo."
   ]
  },
  {
   "cell_type": "code",
   "execution_count": 9,
   "id": "2f88c430-8992-489f-baa3-ffecbd0e5be5",
   "metadata": {},
   "outputs": [
    {
     "name": "stdout",
     "output_type": "stream",
     "text": [
      "Stopped existing FlightServer.\n"
     ]
    }
   ],
   "source": [
    "try:\n",
    "    gds.run_cypher(\"CALL gds.alpha.flightServer.stop()\")\n",
    "    print(\"Stopped existing FlightServer.\")\n",
    "except Exception:\n",
    "    pass\n",
    "\n",
    "try:\n",
    "    G = gds.graph.get(NEO4J_GRAPH)\n",
    "    print(f\"Dropping existing graph for {NEO4J_GRAPH}\")\n",
    "    G.drop()\n",
    "except ValueError:\n",
    "    pass"
   ]
  },
  {
   "cell_type": "markdown",
   "id": "47bb232d-b113-45e1-82a2-13f035d6e6eb",
   "metadata": {},
   "source": [
    "### 🟢 Start our GDS Flight Server\n",
    "\n",
    "In this pre-alpha version, the Flight Server needs to be manually started. It's a simple stored procedure call."
   ]
  },
  {
   "cell_type": "code",
   "execution_count": 10,
   "id": "64febc74-6278-4d86-95b5-8a1fb6572243",
   "metadata": {},
   "outputs": [
    {
     "data": {
      "text/html": [
       "<div>\n",
       "<style scoped>\n",
       "    .dataframe tbody tr th:only-of-type {\n",
       "        vertical-align: middle;\n",
       "    }\n",
       "\n",
       "    .dataframe tbody tr th {\n",
       "        vertical-align: top;\n",
       "    }\n",
       "\n",
       "    .dataframe thead th {\n",
       "        text-align: right;\n",
       "    }\n",
       "</style>\n",
       "<table border=\"1\" class=\"dataframe\">\n",
       "  <thead>\n",
       "    <tr style=\"text-align: right;\">\n",
       "      <th></th>\n",
       "      <th>listenerAddress</th>\n",
       "      <th>listenerPort</th>\n",
       "    </tr>\n",
       "  </thead>\n",
       "  <tbody>\n",
       "    <tr>\n",
       "      <th>0</th>\n",
       "      <td>0.0.0.0</td>\n",
       "      <td>4242</td>\n",
       "    </tr>\n",
       "  </tbody>\n",
       "</table>\n",
       "</div>"
      ],
      "text/plain": [
       "  listenerAddress  listenerPort\n",
       "0         0.0.0.0          4242"
      ]
     },
     "execution_count": 10,
     "metadata": {},
     "output_type": "execute_result"
    }
   ],
   "source": [
    "gds.run_cypher(\"CALL gds.alpha.flightServer.start()\")"
   ]
  },
  {
   "cell_type": "markdown",
   "id": "f0fae2bc-44b6-4297-a213-94771d46a97b",
   "metadata": {},
   "source": [
    "### Prepare some 🏹 PyArrow Stuff\n",
    "\n",
    "We need a few Arrow-specific messaging components before we can take off. The GDS Flight Server uses these to signal state progression through the data loading process."
   ]
  },
  {
   "cell_type": "code",
   "execution_count": 11,
   "id": "ab28adbf-a26f-4c46-9186-ea57418a6268",
   "metadata": {},
   "outputs": [
    {
     "data": {
      "text/plain": [
       "({'name': 'test', 'entity_type': 'node'},\n",
       " {'name': 'test', 'entity_type': 'relationship'})"
      ]
     },
     "execution_count": 11,
     "metadata": {},
     "output_type": "execute_result"
    }
   ],
   "source": [
    "node_descriptor = { \"name\": NEO4J_GRAPH, \"entity_type\": \"node\" }\n",
    "edge_descriptor = { \"name\": NEO4J_GRAPH, \"entity_type\": \"relationship\" }\n",
    "\n",
    "node_descriptor, edge_descriptor"
   ]
  },
  {
   "cell_type": "markdown",
   "id": "0397ad5d-7231-4daa-aac4-780bf078bb28",
   "metadata": {},
   "source": [
    "We create a `FlightClient` specifically for use from the *Spark Driver* instance. The *Driver* will be responsible for signalling state changes to the GDS backend."
   ]
  },
  {
   "cell_type": "code",
   "execution_count": 12,
   "id": "acabff60-d1b7-48ff-909f-4a5d4e14214b",
   "metadata": {},
   "outputs": [
    {
     "data": {
      "text/plain": [
       "{'name': 'test'}"
      ]
     },
     "execution_count": 12,
     "metadata": {},
     "output_type": "execute_result"
    }
   ],
   "source": [
    "client = flight.FlightClient(flight.Location.for_grpc_tcp(NEO4J_HOST, 4242))\n",
    "send_action(client, \"CREATE_GRAPH\", {\"name\": NEO4J_GRAPH})"
   ]
  },
  {
   "cell_type": "markdown",
   "id": "ce0ac15f-91c6-4064-b737-aaae406f1361",
   "metadata": {},
   "source": [
    "### 🚚 Load the Nodes\n",
    "\n",
    "Here's where the more complicated processing occurs. We use our helper functions (`guid_to_int` and `load_rows_as_tables`) to transform the Spark data as needed and also batch load it into GDS.\n",
    "\n",
    "Spark's `.mapPartitions` method on the `RDD` instance allows us to effectively create 1 \"loader thread\" per Spark partition.\n",
    "\n",
    "Our helper function returns a Tuple of:\n",
    "* PyArrow `Table` schema as a `string` \n",
    "* the number of nodes in our constructed PyArrow `Table`\n",
    "* the number of nodes our PyArrow client sent to GDS"
   ]
  },
  {
   "cell_type": "code",
   "execution_count": 13,
   "id": "1dadebd2-b744-412f-abf1-b818ff709a54",
   "metadata": {},
   "outputs": [
    {
     "name": "stderr",
     "output_type": "stream",
     "text": [
      "[Stage 2:>                                                          (0 + 1) / 1]"
     ]
    },
    {
     "name": "stdout",
     "output_type": "stream",
     "text": [
      "loaded nodes: [Row(num_sent=33732, schema='fraudMoneyTransfer: int64\\nmoneyTransferErrorCancelAcmount: double\\nnode_id: int64', table_size=33732)]\n"
     ]
    },
    {
     "name": "stderr",
     "output_type": "stream",
     "text": [
      "                                                                                \r"
     ]
    }
   ],
   "source": [
    "results = (\n",
    "    nodes.rdd\n",
    "    .map(guid_to_int(\"node_id\"), True)\n",
    "    .mapPartitions(load_rows_as_tables(NEO4J_HOST, 4242, node_descriptor), True)\n",
    "    .collect()\n",
    ")\n",
    "\n",
    "print(f\"loaded nodes: {results}\")"
   ]
  },
  {
   "cell_type": "markdown",
   "id": "05766cb9-d186-4b46-9f01-30eed6bedb65",
   "metadata": {},
   "source": [
    "We need to tell the GDS server to stop looking for nodes. This currently __must__ be done prior to streaming relationships as the node ids must already exist for processing any edges."
   ]
  },
  {
   "cell_type": "code",
   "execution_count": 14,
   "id": "cd100eb9-aa85-45d9-b043-11f61e063e1c",
   "metadata": {},
   "outputs": [
    {
     "data": {
      "text/plain": [
       "{'name': 'test', 'node_count': 33732}"
      ]
     },
     "execution_count": 14,
     "metadata": {},
     "output_type": "execute_result"
    }
   ],
   "source": [
    "send_action(client, \"NODE_LOAD_DONE\", {\"name\": NEO4J_GRAPH})"
   ]
  },
  {
   "cell_type": "markdown",
   "id": "ffa1099f-8752-4943-ad51-f56a0035b0e5",
   "metadata": {},
   "source": [
    "### 🚚 Load the Relationships\n",
    "\n",
    "Similar to how we loaded the Nodes, we do a little last-mile transformation via PySpark before feeding the data to GDS."
   ]
  },
  {
   "cell_type": "code",
   "execution_count": 15,
   "id": "017f55b7-0a69-4e9a-a39c-ccc3b09db8e8",
   "metadata": {},
   "outputs": [
    {
     "name": "stderr",
     "output_type": "stream",
     "text": [
      "[Stage 3:>                                                          (0 + 1) / 1]"
     ]
    },
    {
     "name": "stdout",
     "output_type": "stream",
     "text": [
      "loaded edges: [Row(num_sent=102832, schema='destination_id: int64\\nsource_id: int64', table_size=102832)]\n"
     ]
    },
    {
     "name": "stderr",
     "output_type": "stream",
     "text": [
      "                                                                                \r"
     ]
    }
   ],
   "source": [
    "results = (\n",
    "    edges.rdd\n",
    "    .map(guid_to_int(\"source_id\", \"destination_id\"), True)\n",
    "    .mapPartitions(load_rows_as_tables(NEO4J_HOST, 4242, edge_descriptor))\n",
    "    .collect()\n",
    ")\n",
    "\n",
    "print(f\"loaded edges: {results}\")"
   ]
  },
  {
   "cell_type": "markdown",
   "id": "909f6535-bdc7-49f9-85fe-3d78c0b57ac7",
   "metadata": {},
   "source": [
    "Signal the edge load is done. This triggers the graph being finalized into the Graph Catalog."
   ]
  },
  {
   "cell_type": "code",
   "execution_count": 16,
   "id": "dcf5b59e-effa-4be1-9f5f-4bd93c043683",
   "metadata": {},
   "outputs": [
    {
     "data": {
      "text/plain": [
       "{'name': 'test', 'relationship_count': 102832}"
      ]
     },
     "execution_count": 16,
     "metadata": {},
     "output_type": "execute_result"
    }
   ],
   "source": [
    "send_action(client, \"RELATIONSHIP_LOAD_DONE\", {\"name\": NEO4J_GRAPH})"
   ]
  },
  {
   "cell_type": "markdown",
   "id": "baf1f118-8f22-4082-9ede-4838825ef1bd",
   "metadata": {},
   "source": [
    "### 🛑 Stop our Flight Server\n",
    "\n",
    "This is manual today, but a simple stored procedure call."
   ]
  },
  {
   "cell_type": "code",
   "execution_count": 17,
   "id": "cd43c826-0baf-42c0-bd7d-5c7856027eb4",
   "metadata": {},
   "outputs": [
    {
     "data": {
      "text/html": [
       "<div>\n",
       "<style scoped>\n",
       "    .dataframe tbody tr th:only-of-type {\n",
       "        vertical-align: middle;\n",
       "    }\n",
       "\n",
       "    .dataframe tbody tr th {\n",
       "        vertical-align: top;\n",
       "    }\n",
       "\n",
       "    .dataframe thead th {\n",
       "        text-align: right;\n",
       "    }\n",
       "</style>\n",
       "<table border=\"1\" class=\"dataframe\">\n",
       "  <thead>\n",
       "    <tr style=\"text-align: right;\">\n",
       "      <th></th>\n",
       "      <th>listenerAddress</th>\n",
       "      <th>listenerPort</th>\n",
       "    </tr>\n",
       "  </thead>\n",
       "  <tbody>\n",
       "    <tr>\n",
       "      <th>0</th>\n",
       "      <td>0.0.0.0</td>\n",
       "      <td>4242</td>\n",
       "    </tr>\n",
       "  </tbody>\n",
       "</table>\n",
       "</div>"
      ],
      "text/plain": [
       "  listenerAddress  listenerPort\n",
       "0         0.0.0.0          4242"
      ]
     },
     "execution_count": 17,
     "metadata": {},
     "output_type": "execute_result"
    }
   ],
   "source": [
    "gds.run_cypher(\"CALL gds.alpha.flightServer.stop();\")"
   ]
  },
  {
   "cell_type": "markdown",
   "id": "4e888452-0872-4bd5-95ad-185417e902e0",
   "metadata": {},
   "source": [
    "## Inspect the GDS Graph\n",
    "\n",
    "Let's make sure the graph was actually created. 😉\n",
    "\n",
    "This is easy with the GDS client."
   ]
  },
  {
   "cell_type": "code",
   "execution_count": 18,
   "id": "1aa69909-eb02-4991-a0da-230a162eac2a",
   "metadata": {},
   "outputs": [
    {
     "data": {
      "text/html": [
       "<div>\n",
       "<style scoped>\n",
       "    .dataframe tbody tr th:only-of-type {\n",
       "        vertical-align: middle;\n",
       "    }\n",
       "\n",
       "    .dataframe tbody tr th {\n",
       "        vertical-align: top;\n",
       "    }\n",
       "\n",
       "    .dataframe thead th {\n",
       "        text-align: right;\n",
       "    }\n",
       "</style>\n",
       "<table border=\"1\" class=\"dataframe\">\n",
       "  <thead>\n",
       "    <tr style=\"text-align: right;\">\n",
       "      <th></th>\n",
       "      <th>degreeDistribution</th>\n",
       "      <th>graphName</th>\n",
       "      <th>database</th>\n",
       "      <th>memoryUsage</th>\n",
       "      <th>sizeInBytes</th>\n",
       "      <th>nodeCount</th>\n",
       "      <th>relationshipCount</th>\n",
       "      <th>configuration</th>\n",
       "      <th>density</th>\n",
       "      <th>creationTime</th>\n",
       "      <th>modificationTime</th>\n",
       "      <th>schema</th>\n",
       "    </tr>\n",
       "  </thead>\n",
       "  <tbody>\n",
       "    <tr>\n",
       "      <th>0</th>\n",
       "      <td>{'p99': 49, 'min': 0, 'max': 1073, 'mean': 3.0...</td>\n",
       "      <td>test</td>\n",
       "      <td>neo4j</td>\n",
       "      <td>11481 KiB</td>\n",
       "      <td>11757144</td>\n",
       "      <td>33732</td>\n",
       "      <td>102832</td>\n",
       "      <td>{}</td>\n",
       "      <td>0.00009</td>\n",
       "      <td>2022-05-04T18:48:15.258358000+00:00</td>\n",
       "      <td>2022-05-04T18:48:15.258341000+00:00</td>\n",
       "      <td>{'relationships': {'REL': {}}, 'nodes': {'__AL...</td>\n",
       "    </tr>\n",
       "  </tbody>\n",
       "</table>\n",
       "</div>"
      ],
      "text/plain": [
       "                                  degreeDistribution graphName database  \\\n",
       "0  {'p99': 49, 'min': 0, 'max': 1073, 'mean': 3.0...      test    neo4j   \n",
       "\n",
       "  memoryUsage  sizeInBytes  nodeCount  relationshipCount configuration  \\\n",
       "0   11481 KiB     11757144      33732             102832            {}   \n",
       "\n",
       "   density                         creationTime  \\\n",
       "0  0.00009  2022-05-04T18:48:15.258358000+00:00   \n",
       "\n",
       "                      modificationTime  \\\n",
       "0  2022-05-04T18:48:15.258341000+00:00   \n",
       "\n",
       "                                              schema  \n",
       "0  {'relationships': {'REL': {}}, 'nodes': {'__AL...  "
      ]
     },
     "execution_count": 18,
     "metadata": {},
     "output_type": "execute_result"
    }
   ],
   "source": [
    "gds.graph.list()"
   ]
  },
  {
   "cell_type": "code",
   "execution_count": 19,
   "id": "e978cf2d-cfc7-4dfb-9a54-6863d4e0d8b4",
   "metadata": {},
   "outputs": [],
   "source": [
    "G = gds.graph.get(NEO4J_GRAPH)"
   ]
  },
  {
   "cell_type": "markdown",
   "id": "282fdbcd-6e78-48fe-b7ab-38d32584f0fa",
   "metadata": {},
   "source": [
    "We should have some node properties:"
   ]
  },
  {
   "cell_type": "code",
   "execution_count": 20,
   "id": "992e3695-0972-4960-96bc-f6ca96cba951",
   "metadata": {},
   "outputs": [
    {
     "data": {
      "text/plain": [
       "['fraudMoneyTransfer', 'moneyTransferErrorCancelAcmount']"
      ]
     },
     "execution_count": 20,
     "metadata": {},
     "output_type": "execute_result"
    }
   ],
   "source": [
    "G.node_properties(\"__ALL__\")"
   ]
  },
  {
   "cell_type": "markdown",
   "id": "75bb63fd-74db-4029-bf55-8c0faeefe9fc",
   "metadata": {},
   "source": [
    "Run an algo, just for fun."
   ]
  },
  {
   "cell_type": "code",
   "execution_count": 26,
   "id": "12f6cb62-0dbe-4be9-8ceb-733325321be0",
   "metadata": {},
   "outputs": [
    {
     "data": {
      "text/html": [
       "<div>\n",
       "<style scoped>\n",
       "    .dataframe tbody tr th:only-of-type {\n",
       "        vertical-align: middle;\n",
       "    }\n",
       "\n",
       "    .dataframe tbody tr th {\n",
       "        vertical-align: top;\n",
       "    }\n",
       "\n",
       "    .dataframe thead th {\n",
       "        text-align: right;\n",
       "    }\n",
       "</style>\n",
       "<table border=\"1\" class=\"dataframe\">\n",
       "  <thead>\n",
       "    <tr style=\"text-align: right;\">\n",
       "      <th></th>\n",
       "      <th>nodeId</th>\n",
       "      <th>score</th>\n",
       "    </tr>\n",
       "  </thead>\n",
       "  <tbody>\n",
       "    <tr>\n",
       "      <th>0</th>\n",
       "      <td>6700320426250256957</td>\n",
       "      <td>0.277500</td>\n",
       "    </tr>\n",
       "    <tr>\n",
       "      <th>1</th>\n",
       "      <td>4446448716690964198</td>\n",
       "      <td>0.929590</td>\n",
       "    </tr>\n",
       "    <tr>\n",
       "      <th>2</th>\n",
       "      <td>3709327296075386761</td>\n",
       "      <td>0.961240</td>\n",
       "    </tr>\n",
       "    <tr>\n",
       "      <th>3</th>\n",
       "      <td>448599208369598941</td>\n",
       "      <td>0.150000</td>\n",
       "    </tr>\n",
       "    <tr>\n",
       "      <th>4</th>\n",
       "      <td>4835484041427496914</td>\n",
       "      <td>0.780385</td>\n",
       "    </tr>\n",
       "    <tr>\n",
       "      <th>...</th>\n",
       "      <td>...</td>\n",
       "      <td>...</td>\n",
       "    </tr>\n",
       "    <tr>\n",
       "      <th>33727</th>\n",
       "      <td>1051263292924472721</td>\n",
       "      <td>0.150000</td>\n",
       "    </tr>\n",
       "    <tr>\n",
       "      <th>33728</th>\n",
       "      <td>3064255076439635539</td>\n",
       "      <td>0.277500</td>\n",
       "    </tr>\n",
       "    <tr>\n",
       "      <th>33729</th>\n",
       "      <td>7158911241180865343</td>\n",
       "      <td>0.150000</td>\n",
       "    </tr>\n",
       "    <tr>\n",
       "      <th>33730</th>\n",
       "      <td>9015902886036781597</td>\n",
       "      <td>1.018529</td>\n",
       "    </tr>\n",
       "    <tr>\n",
       "      <th>33731</th>\n",
       "      <td>9007544810365633345</td>\n",
       "      <td>0.575950</td>\n",
       "    </tr>\n",
       "  </tbody>\n",
       "</table>\n",
       "<p>33732 rows × 2 columns</p>\n",
       "</div>"
      ],
      "text/plain": [
       "                    nodeId     score\n",
       "0      6700320426250256957  0.277500\n",
       "1      4446448716690964198  0.929590\n",
       "2      3709327296075386761  0.961240\n",
       "3       448599208369598941  0.150000\n",
       "4      4835484041427496914  0.780385\n",
       "...                    ...       ...\n",
       "33727  1051263292924472721  0.150000\n",
       "33728  3064255076439635539  0.277500\n",
       "33729  7158911241180865343  0.150000\n",
       "33730  9015902886036781597  1.018529\n",
       "33731  9007544810365633345  0.575950\n",
       "\n",
       "[33732 rows x 2 columns]"
      ]
     },
     "execution_count": 26,
     "metadata": {},
     "output_type": "execute_result"
    }
   ],
   "source": [
    "gds.pageRank.stream(G)"
   ]
  },
  {
   "cell_type": "markdown",
   "id": "a877877c-1624-46f3-8e67-22e198e25758",
   "metadata": {},
   "source": [
    "## Drop our Graph and Clean Up\n",
    "\n",
    "Your mother doesn't work here..."
   ]
  },
  {
   "cell_type": "code",
   "execution_count": 27,
   "id": "4cfcf982-9943-4df6-954d-f08ce34878cb",
   "metadata": {},
   "outputs": [],
   "source": [
    "G.drop()"
   ]
  },
  {
   "cell_type": "code",
   "execution_count": 28,
   "id": "e7e7bd5a-21f5-487f-b46c-c4e929d072f6",
   "metadata": {},
   "outputs": [
    {
     "data": {
      "text/html": [
       "<div>\n",
       "<style scoped>\n",
       "    .dataframe tbody tr th:only-of-type {\n",
       "        vertical-align: middle;\n",
       "    }\n",
       "\n",
       "    .dataframe tbody tr th {\n",
       "        vertical-align: top;\n",
       "    }\n",
       "\n",
       "    .dataframe thead th {\n",
       "        text-align: right;\n",
       "    }\n",
       "</style>\n",
       "<table border=\"1\" class=\"dataframe\">\n",
       "  <thead>\n",
       "    <tr style=\"text-align: right;\">\n",
       "      <th></th>\n",
       "      <th>degreeDistribution</th>\n",
       "      <th>graphName</th>\n",
       "      <th>database</th>\n",
       "      <th>memoryUsage</th>\n",
       "      <th>sizeInBytes</th>\n",
       "      <th>nodeCount</th>\n",
       "      <th>relationshipCount</th>\n",
       "      <th>configuration</th>\n",
       "      <th>density</th>\n",
       "      <th>creationTime</th>\n",
       "      <th>modificationTime</th>\n",
       "      <th>schema</th>\n",
       "    </tr>\n",
       "  </thead>\n",
       "  <tbody>\n",
       "  </tbody>\n",
       "</table>\n",
       "</div>"
      ],
      "text/plain": [
       "Empty DataFrame\n",
       "Columns: [degreeDistribution, graphName, database, memoryUsage, sizeInBytes, nodeCount, relationshipCount, configuration, density, creationTime, modificationTime, schema]\n",
       "Index: []"
      ]
     },
     "execution_count": 28,
     "metadata": {},
     "output_type": "execute_result"
    }
   ],
   "source": [
    "gds.graph.list()"
   ]
  },
  {
   "cell_type": "code",
   "execution_count": 30,
   "id": "d33adb25-6505-4cbe-9eaa-b022563212b4",
   "metadata": {},
   "outputs": [
    {
     "name": "stdout",
     "output_type": "stream",
     "text": [
      "No projected graph named 'test' exists\n"
     ]
    }
   ],
   "source": [
    "try:\n",
    "    gds.graph.get(NEO4J_GRAPH)\n",
    "except ValueError as e:\n",
    "    print(e)"
   ]
  },
  {
   "cell_type": "markdown",
   "id": "3c24eba0-a30c-4b3f-9cbc-f7e9cdc04611",
   "metadata": {},
   "source": [
    "# 👋 That's all Folks!\n",
    "\n",
    "Questions? Comments? Concerns? `dave<dot>voutila [at] neotechnology.com`"
   ]
  }
 ],
 "metadata": {
  "kernelspec": {
   "display_name": "PySpark [conda env:root] * (Local)",
   "language": "python",
   "name": "local-conda-root-pyspark"
  },
  "language_info": {
   "codemirror_mode": {
    "name": "ipython",
    "version": 3
   },
   "file_extension": ".py",
   "mimetype": "text/x-python",
   "name": "python",
   "nbconvert_exporter": "python",
   "pygments_lexer": "ipython3",
   "version": "3.7.12"
  }
 },
 "nbformat": 4,
 "nbformat_minor": 5
}
